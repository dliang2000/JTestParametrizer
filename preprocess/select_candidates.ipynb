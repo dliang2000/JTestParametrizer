{
 "cells": [
  {
   "cell_type": "code",
   "execution_count": 1,
   "metadata": {},
   "outputs": [],
   "source": [
    "from pandas import DataFrame, read_csv\n",
    "import pandas as pd\n",
    "import numpy as np\n",
    "import xlrd"
   ]
  },
  {
   "cell_type": "code",
   "execution_count": 2,
   "metadata": {},
   "outputs": [],
   "source": [
    "def getColor(book, sheet, row, col):\n",
    "    xfx = sheet.cell_xf_index(row, col)\n",
    "    xf = book.xf_list[xfx]\n",
    "    bgx = xf.background.pattern_colour_index\n",
    "    color_code = None\n",
    "    if bgx == 9:\n",
    "        color_code = 0\n",
    "    elif bgx == 42:\n",
    "        color_code = 1\n",
    "    elif bgx == 10:\n",
    "        color_code = -1\n",
    "    #pattern_colour = book.colour_map[bgx]\n",
    "    return color_code"
   ]
  },
  {
   "cell_type": "code",
   "execution_count": 3,
   "metadata": {},
   "outputs": [],
   "source": [
    "fin = 'data/jfreechart-1.0.10-ccfinder.xls'\n",
    "df = pd.read_excel(fin)\n",
    "fin_analyzed = 'data/jfreechart-1.0.10-ccfinder-analyzed.xls'\n",
    "book = xlrd.open_workbook(fin_analyzed, formatting_info=True)\n",
    "sheet = book.sheet_by_index(0)"
   ]
  },
  {
   "cell_type": "code",
   "execution_count": 4,
   "metadata": {},
   "outputs": [
    {
     "data": {
      "text/plain": [
       "Clone Group ID           int64\n",
       "Source Folder           object\n",
       "Package                 object\n",
       "Class                   object\n",
       "Method                  object\n",
       "Method Signature        object\n",
       "Start Line               int64\n",
       "End Line                 int64\n",
       "Start Offset             int64\n",
       "End Offset               int64\n",
       "#PDG Nodes             float64\n",
       "#Statements            float64\n",
       "Line Coverage (%)      float64\n",
       "Clone Group Size       float64\n",
       "Clone Group Info        object\n",
       "Connected              float64\n",
       "Clone Pair Location     object\n",
       "#Refactorable Pairs    float64\n",
       "Details                float64\n",
       "dtype: object"
      ]
     },
     "execution_count": 4,
     "metadata": {},
     "output_type": "execute_result"
    }
   ],
   "source": [
    "df.dtypes"
   ]
  },
  {
   "cell_type": "code",
   "execution_count": 5,
   "metadata": {},
   "outputs": [],
   "source": [
    "bgx = []\n",
    "col = 18\n",
    "for i in range(1, sheet.nrows):\n",
    "    bgx.append(getColor(book, sheet, i, col))\n",
    "colors = pd.Series(np.array(bgx), index=df.index)\n",
    "df['Colors'] = colors"
   ]
  },
  {
   "cell_type": "code",
   "execution_count": 6,
   "metadata": {},
   "outputs": [],
   "source": [
    "grouped = df.groupby('Clone Group ID')\n",
    "selected = grouped.filter(lambda group: \n",
    "               len(group) == 2 \n",
    "               and group['Method'].isnull().sum() == 0 \n",
    "               and group['Method Signature'].isnull().sum() == 0 \n",
    "               and (group['Source Folder'] != 'tests').sum() == 0 \n",
    "               and (group['Method'] == 'suite').sum() == 0)"
   ]
  },
  {
   "cell_type": "code",
   "execution_count": 7,
   "metadata": {},
   "outputs": [],
   "source": [
    "fout = 'output/jfreechart-1.0.10-selected.xls'\n",
    "writer = pd.ExcelWriter(fout)\n",
    "selected.to_excel(excel_writer = writer, sheet_name = 'Sheet1', index = False)\n",
    "writer.save()\n",
    "#selected.to_csv(fout)\n",
    "#selected.to_excel(fout)"
   ]
  },
  {
   "cell_type": "code",
   "execution_count": null,
   "metadata": {},
   "outputs": [],
   "source": []
  }
 ],
 "metadata": {
  "kernelspec": {
   "display_name": "Python 3",
   "language": "python",
   "name": "python3"
  },
  "language_info": {
   "codemirror_mode": {
    "name": "ipython",
    "version": 2
   },
   "file_extension": ".py",
   "mimetype": "text/x-python",
   "name": "python",
   "nbconvert_exporter": "python",
   "pygments_lexer": "ipython2",
   "version": "2.7.12"
  }
 },
 "nbformat": 4,
 "nbformat_minor": 2
}
